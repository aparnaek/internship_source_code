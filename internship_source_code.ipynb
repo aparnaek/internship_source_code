{
 "cells": [
  {
   "cell_type": "code",
   "execution_count": 1,
   "id": "8a393e7a",
   "metadata": {
    "id": "8a393e7a"
   },
   "outputs": [],
   "source": [
    "import pandas as pd\n",
    "import numpy as np \n",
    "import matplotlib.pyplot as plt\n",
    "import seaborn as sns\n",
    "import warnings\n",
    "warnings.filterwarnings('ignore')"
   ]
  },
  {
   "cell_type": "code",
   "execution_count": 2,
   "id": "60ac4b9f",
   "metadata": {
    "id": "60ac4b9f"
   },
   "outputs": [],
   "source": [
    "data=pd.read_csv('webmd.csv')"
   ]
  },
  {
   "cell_type": "markdown",
   "id": "d5928f58",
   "metadata": {
    "id": "d5928f58"
   },
   "source": [
    "* Drug (categorical): name of drug\n",
    "* DrugId (numerical): drug id\n",
    "* Condition (categorical): name of condition\n",
    "* Review (text): patient review\n",
    "* Side (text): side effects associated with drug (if any)\n",
    "* EaseOfUse (numerical): 5 star rating\n",
    "* Effectiveness (numerical): 5 star rating\n",
    "* Satisfaction (numerical): 5 star rating\n",
    "* Date (date): date of review entry\n",
    "* UsefulCount (numerical): number of users who found review useful.\n",
    "* Age (numerical): age group range of user\n",
    "* Sex (categorical): gender of user"
   ]
  },
  {
   "cell_type": "code",
   "execution_count": 3,
   "id": "8bfcc321",
   "metadata": {
    "id": "8bfcc321",
    "outputId": "3dc26977-4e43-41a0-ea53-1cbcf5e1c477"
   },
   "outputs": [
    {
     "data": {
      "text/html": [
       "<div>\n",
       "<style scoped>\n",
       "    .dataframe tbody tr th:only-of-type {\n",
       "        vertical-align: middle;\n",
       "    }\n",
       "\n",
       "    .dataframe tbody tr th {\n",
       "        vertical-align: top;\n",
       "    }\n",
       "\n",
       "    .dataframe thead th {\n",
       "        text-align: right;\n",
       "    }\n",
       "</style>\n",
       "<table border=\"1\" class=\"dataframe\">\n",
       "  <thead>\n",
       "    <tr style=\"text-align: right;\">\n",
       "      <th></th>\n",
       "      <th>Age</th>\n",
       "      <th>Condition</th>\n",
       "      <th>Date</th>\n",
       "      <th>Drug</th>\n",
       "      <th>DrugId</th>\n",
       "      <th>EaseofUse</th>\n",
       "      <th>Effectiveness</th>\n",
       "      <th>Reviews</th>\n",
       "      <th>Satisfaction</th>\n",
       "      <th>Sex</th>\n",
       "      <th>Sides</th>\n",
       "      <th>UsefulCount</th>\n",
       "    </tr>\n",
       "  </thead>\n",
       "  <tbody>\n",
       "    <tr>\n",
       "      <th>0</th>\n",
       "      <td>75 or over</td>\n",
       "      <td>Stuffy Nose</td>\n",
       "      <td>9/21/2014</td>\n",
       "      <td>25dph-7.5peh</td>\n",
       "      <td>146724</td>\n",
       "      <td>5</td>\n",
       "      <td>5</td>\n",
       "      <td>I'm a retired physician and of all the meds I ...</td>\n",
       "      <td>5</td>\n",
       "      <td>Male</td>\n",
       "      <td>Drowsiness,  dizziness ,  dry mouth /nose/thro...</td>\n",
       "      <td>0</td>\n",
       "    </tr>\n",
       "    <tr>\n",
       "      <th>1</th>\n",
       "      <td>25-34</td>\n",
       "      <td>Cold Symptoms</td>\n",
       "      <td>1/13/2011</td>\n",
       "      <td>25dph-7.5peh</td>\n",
       "      <td>146724</td>\n",
       "      <td>5</td>\n",
       "      <td>5</td>\n",
       "      <td>cleared me right up even with my throat hurtin...</td>\n",
       "      <td>5</td>\n",
       "      <td>Female</td>\n",
       "      <td>Drowsiness,  dizziness ,  dry mouth /nose/thro...</td>\n",
       "      <td>1</td>\n",
       "    </tr>\n",
       "    <tr>\n",
       "      <th>2</th>\n",
       "      <td>65-74</td>\n",
       "      <td>Other</td>\n",
       "      <td>7/16/2012</td>\n",
       "      <td>warfarin (bulk) 100 % powder</td>\n",
       "      <td>144731</td>\n",
       "      <td>2</td>\n",
       "      <td>3</td>\n",
       "      <td>why did my PTINR go from a normal of 2.5 to ov...</td>\n",
       "      <td>3</td>\n",
       "      <td>Female</td>\n",
       "      <td></td>\n",
       "      <td>0</td>\n",
       "    </tr>\n",
       "    <tr>\n",
       "      <th>3</th>\n",
       "      <td>75 or over</td>\n",
       "      <td>Other</td>\n",
       "      <td>9/23/2010</td>\n",
       "      <td>warfarin (bulk) 100 % powder</td>\n",
       "      <td>144731</td>\n",
       "      <td>2</td>\n",
       "      <td>2</td>\n",
       "      <td>FALLING AND DON'T REALISE IT</td>\n",
       "      <td>1</td>\n",
       "      <td>Female</td>\n",
       "      <td></td>\n",
       "      <td>0</td>\n",
       "    </tr>\n",
       "    <tr>\n",
       "      <th>4</th>\n",
       "      <td>35-44</td>\n",
       "      <td>Other</td>\n",
       "      <td>1/6/2009</td>\n",
       "      <td>warfarin (bulk) 100 % powder</td>\n",
       "      <td>144731</td>\n",
       "      <td>1</td>\n",
       "      <td>1</td>\n",
       "      <td>My grandfather was prescribed this medication ...</td>\n",
       "      <td>1</td>\n",
       "      <td>Male</td>\n",
       "      <td></td>\n",
       "      <td>1</td>\n",
       "    </tr>\n",
       "  </tbody>\n",
       "</table>\n",
       "</div>"
      ],
      "text/plain": [
       "          Age      Condition       Date                          Drug  DrugId  \\\n",
       "0  75 or over    Stuffy Nose  9/21/2014                  25dph-7.5peh  146724   \n",
       "1       25-34  Cold Symptoms  1/13/2011                  25dph-7.5peh  146724   \n",
       "2       65-74          Other  7/16/2012  warfarin (bulk) 100 % powder  144731   \n",
       "3  75 or over          Other  9/23/2010  warfarin (bulk) 100 % powder  144731   \n",
       "4       35-44          Other   1/6/2009  warfarin (bulk) 100 % powder  144731   \n",
       "\n",
       "   EaseofUse  Effectiveness  \\\n",
       "0          5              5   \n",
       "1          5              5   \n",
       "2          2              3   \n",
       "3          2              2   \n",
       "4          1              1   \n",
       "\n",
       "                                             Reviews  Satisfaction     Sex  \\\n",
       "0  I'm a retired physician and of all the meds I ...             5    Male   \n",
       "1  cleared me right up even with my throat hurtin...             5  Female   \n",
       "2  why did my PTINR go from a normal of 2.5 to ov...             3  Female   \n",
       "3                       FALLING AND DON'T REALISE IT             1  Female   \n",
       "4  My grandfather was prescribed this medication ...             1    Male   \n",
       "\n",
       "                                               Sides  UsefulCount  \n",
       "0  Drowsiness,  dizziness ,  dry mouth /nose/thro...            0  \n",
       "1  Drowsiness,  dizziness ,  dry mouth /nose/thro...            1  \n",
       "2                                                               0  \n",
       "3                                                               0  \n",
       "4                                                               1  "
      ]
     },
     "execution_count": 3,
     "metadata": {},
     "output_type": "execute_result"
    }
   ],
   "source": [
    "data.head()"
   ]
  },
  {
   "cell_type": "code",
   "execution_count": 4,
   "id": "cbf32b5d",
   "metadata": {
    "id": "cbf32b5d",
    "outputId": "2c4c2aef-beac-485e-f71d-b5fdc7968c21"
   },
   "outputs": [
    {
     "name": "stdout",
     "output_type": "stream",
     "text": [
      "<class 'pandas.core.frame.DataFrame'>\n",
      "RangeIndex: 362806 entries, 0 to 362805\n",
      "Data columns (total 12 columns):\n",
      " #   Column         Non-Null Count   Dtype \n",
      "---  ------         --------------   ----- \n",
      " 0   Age            362806 non-null  object\n",
      " 1   Condition      362806 non-null  object\n",
      " 2   Date           362806 non-null  object\n",
      " 3   Drug           362806 non-null  object\n",
      " 4   DrugId         362806 non-null  int64 \n",
      " 5   EaseofUse      362806 non-null  int64 \n",
      " 6   Effectiveness  362806 non-null  int64 \n",
      " 7   Reviews        362769 non-null  object\n",
      " 8   Satisfaction   362806 non-null  int64 \n",
      " 9   Sex            362806 non-null  object\n",
      " 10  Sides          362806 non-null  object\n",
      " 11  UsefulCount    362806 non-null  int64 \n",
      "dtypes: int64(5), object(7)\n",
      "memory usage: 33.2+ MB\n"
     ]
    }
   ],
   "source": [
    "data.info()"
   ]
  },
  {
   "cell_type": "markdown",
   "id": "72e2992a",
   "metadata": {
    "id": "72e2992a"
   },
   "source": [
    "# Preprocessing"
   ]
  },
  {
   "cell_type": "markdown",
   "id": "ab6edc74",
   "metadata": {
    "id": "ab6edc74"
   },
   "source": [
    "## Handling missing values"
   ]
  },
  {
   "cell_type": "code",
   "execution_count": 5,
   "id": "b123659b",
   "metadata": {
    "id": "b123659b",
    "outputId": "fbaa7cc0-bc23-4f6f-ceb8-1600894bf506"
   },
   "outputs": [
    {
     "data": {
      "text/plain": [
       "Age               0\n",
       "Condition         0\n",
       "Date              0\n",
       "Drug              0\n",
       "DrugId            0\n",
       "EaseofUse         0\n",
       "Effectiveness     0\n",
       "Reviews          37\n",
       "Satisfaction      0\n",
       "Sex               0\n",
       "Sides             0\n",
       "UsefulCount       0\n",
       "dtype: int64"
      ]
     },
     "execution_count": 5,
     "metadata": {},
     "output_type": "execute_result"
    }
   ],
   "source": [
    "data.isna().sum()"
   ]
  },
  {
   "cell_type": "code",
   "execution_count": 6,
   "id": "ea6be8b9",
   "metadata": {
    "id": "ea6be8b9"
   },
   "outputs": [],
   "source": [
    "data.dropna(inplace=True)"
   ]
  },
  {
   "cell_type": "markdown",
   "id": "8591f103",
   "metadata": {
    "id": "8591f103"
   },
   "source": [
    "I also strip leading and trailing white spaces from string type data. These white spaces often conceal the fact that there is nothing useful in the data cell simply because white spaces are data as well."
   ]
  },
  {
   "cell_type": "code",
   "execution_count": 7,
   "id": "404df6d7",
   "metadata": {
    "id": "404df6d7"
   },
   "outputs": [],
   "source": [
    "for col in data.columns:\n",
    "    if data[col].dtype.kind == \"O\":\n",
    "        data[col] = data[col].str.strip()"
   ]
  },
  {
   "cell_type": "code",
   "execution_count": 8,
   "id": "e3c23d9d",
   "metadata": {
    "id": "e3c23d9d"
   },
   "outputs": [],
   "source": [
    "for col in [\"Age\", \"Condition\", \"Sex\", \"Reviews\",\"Sides\"]:\n",
    "    data = data[(data[col].astype(bool)&data[col].notnull())]"
   ]
  },
  {
   "cell_type": "code",
   "execution_count": 9,
   "id": "a49a3acb",
   "metadata": {
    "id": "a49a3acb",
    "outputId": "994a554e-08b6-47d5-dd50-c90a80507758"
   },
   "outputs": [
    {
     "data": {
      "text/html": [
       "<div>\n",
       "<style scoped>\n",
       "    .dataframe tbody tr th:only-of-type {\n",
       "        vertical-align: middle;\n",
       "    }\n",
       "\n",
       "    .dataframe tbody tr th {\n",
       "        vertical-align: top;\n",
       "    }\n",
       "\n",
       "    .dataframe thead th {\n",
       "        text-align: right;\n",
       "    }\n",
       "</style>\n",
       "<table border=\"1\" class=\"dataframe\">\n",
       "  <thead>\n",
       "    <tr style=\"text-align: right;\">\n",
       "      <th></th>\n",
       "      <th>Age</th>\n",
       "      <th>Condition</th>\n",
       "      <th>Date</th>\n",
       "      <th>Drug</th>\n",
       "      <th>DrugId</th>\n",
       "      <th>EaseofUse</th>\n",
       "      <th>Effectiveness</th>\n",
       "      <th>Reviews</th>\n",
       "      <th>Satisfaction</th>\n",
       "      <th>Sex</th>\n",
       "      <th>Sides</th>\n",
       "      <th>UsefulCount</th>\n",
       "    </tr>\n",
       "  </thead>\n",
       "  <tbody>\n",
       "    <tr>\n",
       "      <th>0</th>\n",
       "      <td>75 or over</td>\n",
       "      <td>Stuffy Nose</td>\n",
       "      <td>9/21/2014</td>\n",
       "      <td>25dph-7.5peh</td>\n",
       "      <td>146724</td>\n",
       "      <td>5</td>\n",
       "      <td>5</td>\n",
       "      <td>I'm a retired physician and of all the meds I ...</td>\n",
       "      <td>5</td>\n",
       "      <td>Male</td>\n",
       "      <td>Drowsiness,  dizziness ,  dry mouth /nose/thro...</td>\n",
       "      <td>0</td>\n",
       "    </tr>\n",
       "    <tr>\n",
       "      <th>1</th>\n",
       "      <td>25-34</td>\n",
       "      <td>Cold Symptoms</td>\n",
       "      <td>1/13/2011</td>\n",
       "      <td>25dph-7.5peh</td>\n",
       "      <td>146724</td>\n",
       "      <td>5</td>\n",
       "      <td>5</td>\n",
       "      <td>cleared me right up even with my throat hurtin...</td>\n",
       "      <td>5</td>\n",
       "      <td>Female</td>\n",
       "      <td>Drowsiness,  dizziness ,  dry mouth /nose/thro...</td>\n",
       "      <td>1</td>\n",
       "    </tr>\n",
       "    <tr>\n",
       "      <th>6</th>\n",
       "      <td>25-34</td>\n",
       "      <td>Birth Control</td>\n",
       "      <td>6/15/2017</td>\n",
       "      <td>wymzya fe</td>\n",
       "      <td>163180</td>\n",
       "      <td>5</td>\n",
       "      <td>5</td>\n",
       "      <td>Haven't gotten pregnant so it does it's job. I...</td>\n",
       "      <td>2</td>\n",
       "      <td>Female</td>\n",
       "      <td>Nausea ,  vomiting ,  headache ,  bloating ,  ...</td>\n",
       "      <td>0</td>\n",
       "    </tr>\n",
       "    <tr>\n",
       "      <th>7</th>\n",
       "      <td>45-54</td>\n",
       "      <td>Disease of Ovaries with Cysts</td>\n",
       "      <td>1/30/2017</td>\n",
       "      <td>wymzya fe</td>\n",
       "      <td>163180</td>\n",
       "      <td>5</td>\n",
       "      <td>5</td>\n",
       "      <td>I have take this for 5 years age 45-50 to prev...</td>\n",
       "      <td>5</td>\n",
       "      <td>Female</td>\n",
       "      <td>Nausea ,  vomiting ,  headache ,  bloating ,  ...</td>\n",
       "      <td>0</td>\n",
       "    </tr>\n",
       "    <tr>\n",
       "      <th>9</th>\n",
       "      <td>55-64</td>\n",
       "      <td>Stuffy Nose</td>\n",
       "      <td>10/29/2012</td>\n",
       "      <td>12 hour nasal relief spray, non-aerosol</td>\n",
       "      <td>9800</td>\n",
       "      <td>4</td>\n",
       "      <td>2</td>\n",
       "      <td>The 12 hour spray only works for me for 6 hours.</td>\n",
       "      <td>2</td>\n",
       "      <td>Male</td>\n",
       "      <td>Temporary burning, stinging, dryness in the no...</td>\n",
       "      <td>0</td>\n",
       "    </tr>\n",
       "  </tbody>\n",
       "</table>\n",
       "</div>"
      ],
      "text/plain": [
       "          Age                      Condition        Date  \\\n",
       "0  75 or over                    Stuffy Nose   9/21/2014   \n",
       "1       25-34                  Cold Symptoms   1/13/2011   \n",
       "6       25-34                  Birth Control   6/15/2017   \n",
       "7       45-54  Disease of Ovaries with Cysts   1/30/2017   \n",
       "9       55-64                    Stuffy Nose  10/29/2012   \n",
       "\n",
       "                                      Drug  DrugId  EaseofUse  Effectiveness  \\\n",
       "0                             25dph-7.5peh  146724          5              5   \n",
       "1                             25dph-7.5peh  146724          5              5   \n",
       "6                                wymzya fe  163180          5              5   \n",
       "7                                wymzya fe  163180          5              5   \n",
       "9  12 hour nasal relief spray, non-aerosol    9800          4              2   \n",
       "\n",
       "                                             Reviews  Satisfaction     Sex  \\\n",
       "0  I'm a retired physician and of all the meds I ...             5    Male   \n",
       "1  cleared me right up even with my throat hurtin...             5  Female   \n",
       "6  Haven't gotten pregnant so it does it's job. I...             2  Female   \n",
       "7  I have take this for 5 years age 45-50 to prev...             5  Female   \n",
       "9   The 12 hour spray only works for me for 6 hours.             2    Male   \n",
       "\n",
       "                                               Sides  UsefulCount  \n",
       "0  Drowsiness,  dizziness ,  dry mouth /nose/thro...            0  \n",
       "1  Drowsiness,  dizziness ,  dry mouth /nose/thro...            1  \n",
       "6  Nausea ,  vomiting ,  headache ,  bloating ,  ...            0  \n",
       "7  Nausea ,  vomiting ,  headache ,  bloating ,  ...            0  \n",
       "9  Temporary burning, stinging, dryness in the no...            0  "
      ]
     },
     "execution_count": 9,
     "metadata": {},
     "output_type": "execute_result"
    }
   ],
   "source": [
    "data.head()"
   ]
  },
  {
   "cell_type": "code",
   "execution_count": 10,
   "id": "e890e2a8",
   "metadata": {
    "id": "e890e2a8",
    "outputId": "ea8ddd3d-b711-44f5-bac1-73514aaa1d09"
   },
   "outputs": [
    {
     "data": {
      "text/plain": [
       "Age              0\n",
       "Condition        0\n",
       "Date             0\n",
       "Drug             0\n",
       "DrugId           0\n",
       "EaseofUse        0\n",
       "Effectiveness    0\n",
       "Reviews          0\n",
       "Satisfaction     0\n",
       "Sex              0\n",
       "Sides            0\n",
       "UsefulCount      0\n",
       "dtype: int64"
      ]
     },
     "execution_count": 10,
     "metadata": {},
     "output_type": "execute_result"
    }
   ],
   "source": [
    "data.isna().sum()"
   ]
  },
  {
   "cell_type": "code",
   "execution_count": 11,
   "id": "7965a53b",
   "metadata": {
    "id": "7965a53b",
    "outputId": "76a55eaa-a60e-4067-b9ed-b32cfd93771f"
   },
   "outputs": [
    {
     "data": {
      "text/plain": [
       "5014"
      ]
     },
     "execution_count": 11,
     "metadata": {},
     "output_type": "execute_result"
    }
   ],
   "source": [
    "data['Drug'].nunique()"
   ]
  },
  {
   "cell_type": "code",
   "execution_count": 12,
   "id": "ede11565",
   "metadata": {
    "id": "ede11565",
    "outputId": "d2d2331a-3c6e-4b52-de63-144be94e69b7"
   },
   "outputs": [
    {
     "data": {
      "text/plain": [
       "4522"
      ]
     },
     "execution_count": 12,
     "metadata": {},
     "output_type": "execute_result"
    }
   ],
   "source": [
    "data['DrugId'].nunique()"
   ]
  },
  {
   "cell_type": "code",
   "execution_count": 13,
   "id": "e2fbbac4",
   "metadata": {
    "id": "e2fbbac4",
    "outputId": "fcfc8322-d70f-4fa6-efd6-5911ea460f48"
   },
   "outputs": [
    {
     "data": {
      "text/plain": [
       "1584"
      ]
     },
     "execution_count": 13,
     "metadata": {},
     "output_type": "execute_result"
    }
   ],
   "source": [
    "data['Condition'].nunique()"
   ]
  },
  {
   "cell_type": "code",
   "execution_count": 14,
   "id": "81385821",
   "metadata": {
    "id": "81385821",
    "outputId": "42695c7e-4ce6-437e-96b6-608f4ebbe043"
   },
   "outputs": [
    {
     "data": {
      "text/plain": [
       "144"
      ]
     },
     "execution_count": 14,
     "metadata": {},
     "output_type": "execute_result"
    }
   ],
   "source": [
    "data['UsefulCount'].nunique()"
   ]
  },
  {
   "cell_type": "code",
   "execution_count": 15,
   "id": "7e0e2978",
   "metadata": {
    "id": "7e0e2978",
    "outputId": "f6fe57ef-d927-4d85-ae84-8d307214f7a0"
   },
   "outputs": [
    {
     "data": {
      "text/plain": [
       "Nausea ,  vomiting ,  constipation ,  lightheadedness ,  dizziness , or drowsiness may occur.                                                                                                                11358\n",
       "Nausea ,  vomiting ,  headache ,  bloating ,  breast  tenderness, swelling of the  ankles /feet (fluid retention), or  weight  change may occur.                                                             10647\n",
       "Dizziness ,  lightheadedness , tiredness, or  headache  may occur as your body adjusts to the  medication . Dry  cough  may also occur.                                                                       7025\n",
       "Drowsiness,  dizziness , loss of coordination, tiredness, blurred/ double vision , unusual  eye  movements, or shaking (tremor) may occur.                                                                    6326\n",
       "Nausea ,  vomiting , loss of appetite,  heartburn ,  trouble sleeping , increased  sweating , or  acne  may occur.                                                                                            4334\n",
       "                                                                                                                                                                                                             ...  \n",
       "Stinging/burning of the  eyes  for 1 to 2 minutes and temporary  blurred vision  may occur when you apply this  medication . Watery  eyes  may also occur.                                                       1\n",
       "Nausea ,  vomiting , loss of appetite,  mouth  sores, changes in taste,  constipation , tiredness,  dizziness ,  trouble sleeping ,  headache , or pain/redness/swelling at the injection site may occur.        1\n",
       "Nausea ,  vomiting ,  diarrhea ,  dizziness ,  headache , or unusual tiredness may occur.                                                                                                                        1\n",
       "Pain, redness,  itching , bruising, hardened  skin , or bumps at the injection site may occur.                                                                                                                   1\n",
       "Nausea , gas, or  diarrhea  may occur.                                                                                                                                                                           1\n",
       "Name: Sides, Length: 1593, dtype: int64"
      ]
     },
     "execution_count": 15,
     "metadata": {},
     "output_type": "execute_result"
    }
   ],
   "source": [
    "data['Sides'].value_counts()"
   ]
  },
  {
   "cell_type": "code",
   "execution_count": 16,
   "id": "e9c709df",
   "metadata": {
    "id": "e9c709df",
    "outputId": "24331fd9-c6e8-4bea-80ee-ead94813949e"
   },
   "outputs": [
    {
     "data": {
      "text/plain": [
       "216181"
      ]
     },
     "execution_count": 16,
     "metadata": {},
     "output_type": "execute_result"
    }
   ],
   "source": [
    "data['Reviews'].nunique()"
   ]
  },
  {
   "cell_type": "code",
   "execution_count": 17,
   "id": "e24044b8",
   "metadata": {
    "id": "e24044b8",
    "outputId": "a3987c59-437b-4cd4-92cb-25aa9be749aa"
   },
   "outputs": [
    {
     "data": {
      "text/plain": [
       "Female    202977\n",
       "Male       77136\n",
       "Name: Sex, dtype: int64"
      ]
     },
     "execution_count": 17,
     "metadata": {},
     "output_type": "execute_result"
    }
   ],
   "source": [
    "data['Sex'].value_counts()"
   ]
  },
  {
   "cell_type": "code",
   "execution_count": 18,
   "id": "597af8d6",
   "metadata": {
    "id": "597af8d6",
    "outputId": "fdeea3d9-5981-4438-96c2-62244c9fd038"
   },
   "outputs": [
    {
     "data": {
      "text/plain": [
       "45-54         64124\n",
       "55-64         57465\n",
       "35-44         45467\n",
       "25-34         42795\n",
       "65-74         29979\n",
       "19-24         21233\n",
       "75 or over    10726\n",
       "13-18          5974\n",
       "7-12           1334\n",
       "3-6             623\n",
       "0-2             393\n",
       "Name: Age, dtype: int64"
      ]
     },
     "execution_count": 18,
     "metadata": {},
     "output_type": "execute_result"
    }
   ],
   "source": [
    "data['Age'].value_counts()"
   ]
  },
  {
   "cell_type": "code",
   "execution_count": 19,
   "id": "9102a47b",
   "metadata": {
    "id": "9102a47b",
    "outputId": "46d3d652-1636-47d6-91b7-999e2f28171a"
   },
   "outputs": [
    {
     "data": {
      "text/html": [
       "<div>\n",
       "<style scoped>\n",
       "    .dataframe tbody tr th:only-of-type {\n",
       "        vertical-align: middle;\n",
       "    }\n",
       "\n",
       "    .dataframe tbody tr th {\n",
       "        vertical-align: top;\n",
       "    }\n",
       "\n",
       "    .dataframe thead th {\n",
       "        text-align: right;\n",
       "    }\n",
       "</style>\n",
       "<table border=\"1\" class=\"dataframe\">\n",
       "  <thead>\n",
       "    <tr style=\"text-align: right;\">\n",
       "      <th></th>\n",
       "      <th>DrugId</th>\n",
       "      <th>EaseofUse</th>\n",
       "      <th>Effectiveness</th>\n",
       "      <th>Satisfaction</th>\n",
       "      <th>UsefulCount</th>\n",
       "    </tr>\n",
       "  </thead>\n",
       "  <tbody>\n",
       "    <tr>\n",
       "      <th>count</th>\n",
       "      <td>280113.000000</td>\n",
       "      <td>280113.000000</td>\n",
       "      <td>280113.000000</td>\n",
       "      <td>280113.000000</td>\n",
       "      <td>280113.000000</td>\n",
       "    </tr>\n",
       "    <tr>\n",
       "      <th>mean</th>\n",
       "      <td>35902.530564</td>\n",
       "      <td>4.031834</td>\n",
       "      <td>3.528497</td>\n",
       "      <td>3.085594</td>\n",
       "      <td>7.370308</td>\n",
       "    </tr>\n",
       "    <tr>\n",
       "      <th>std</th>\n",
       "      <td>51648.982286</td>\n",
       "      <td>1.316634</td>\n",
       "      <td>1.468042</td>\n",
       "      <td>1.622486</td>\n",
       "      <td>9.449920</td>\n",
       "    </tr>\n",
       "    <tr>\n",
       "      <th>min</th>\n",
       "      <td>1.000000</td>\n",
       "      <td>1.000000</td>\n",
       "      <td>1.000000</td>\n",
       "      <td>1.000000</td>\n",
       "      <td>0.000000</td>\n",
       "    </tr>\n",
       "    <tr>\n",
       "      <th>25%</th>\n",
       "      <td>4896.000000</td>\n",
       "      <td>3.000000</td>\n",
       "      <td>2.000000</td>\n",
       "      <td>1.000000</td>\n",
       "      <td>1.000000</td>\n",
       "    </tr>\n",
       "    <tr>\n",
       "      <th>50%</th>\n",
       "      <td>9548.000000</td>\n",
       "      <td>5.000000</td>\n",
       "      <td>4.000000</td>\n",
       "      <td>3.000000</td>\n",
       "      <td>4.000000</td>\n",
       "    </tr>\n",
       "    <tr>\n",
       "      <th>75%</th>\n",
       "      <td>63163.000000</td>\n",
       "      <td>5.000000</td>\n",
       "      <td>5.000000</td>\n",
       "      <td>5.000000</td>\n",
       "      <td>10.000000</td>\n",
       "    </tr>\n",
       "    <tr>\n",
       "      <th>max</th>\n",
       "      <td>178485.000000</td>\n",
       "      <td>6.000000</td>\n",
       "      <td>6.000000</td>\n",
       "      <td>6.000000</td>\n",
       "      <td>255.000000</td>\n",
       "    </tr>\n",
       "  </tbody>\n",
       "</table>\n",
       "</div>"
      ],
      "text/plain": [
       "              DrugId      EaseofUse  Effectiveness   Satisfaction  \\\n",
       "count  280113.000000  280113.000000  280113.000000  280113.000000   \n",
       "mean    35902.530564       4.031834       3.528497       3.085594   \n",
       "std     51648.982286       1.316634       1.468042       1.622486   \n",
       "min         1.000000       1.000000       1.000000       1.000000   \n",
       "25%      4896.000000       3.000000       2.000000       1.000000   \n",
       "50%      9548.000000       5.000000       4.000000       3.000000   \n",
       "75%     63163.000000       5.000000       5.000000       5.000000   \n",
       "max    178485.000000       6.000000       6.000000       6.000000   \n",
       "\n",
       "         UsefulCount  \n",
       "count  280113.000000  \n",
       "mean        7.370308  \n",
       "std         9.449920  \n",
       "min         0.000000  \n",
       "25%         1.000000  \n",
       "50%         4.000000  \n",
       "75%        10.000000  \n",
       "max       255.000000  "
      ]
     },
     "execution_count": 19,
     "metadata": {},
     "output_type": "execute_result"
    }
   ],
   "source": [
    "data.describe()"
   ]
  },
  {
   "cell_type": "code",
   "execution_count": 20,
   "id": "9f29f3c3",
   "metadata": {
    "id": "9f29f3c3",
    "outputId": "19f72cb5-7a84-4d8c-95e5-16a8fe16ad03"
   },
   "outputs": [
    {
     "name": "stdout",
     "output_type": "stream",
     "text": [
      "    167493: ['lynparza tablet', 'lynparza']\n",
      "      7286: ['loteprednol etabonate ointment', 'loteprednol etabonate drops, suspension']\n",
      "      7319: ['lotemax drops, gel', 'lotemax ointment']\n",
      "    164437: ['lorcaserin tablet, extended release 24 hr', 'lorcaserin tablet']\n",
      "      8892: ['lorazepam concentrate', 'lorazepam']\n",
      "     76548: ['loratadine d', 'loratadine-d']\n",
      "        73: ['loratadine tablet,disintegrating', 'loratadine']\n",
      "      8555: ['loprox cream', 'loprox suspension, topical']\n",
      "      4789: ['loperamide liquid', 'loperamide']\n",
      "      5887: ['lithium carbonate', 'lithium carbonate er']\n"
     ]
    }
   ],
   "source": [
    "import itertools\n",
    "drugs = {}\n",
    "for drugid, drug in data[[\"DrugId\", \"Drug\"]].itertuples(index=False):\n",
    "    drugs.setdefault(drugid, set()).add(drug)\n",
    "drugs = {k:list(v) for k,v in drugs.items()}\n",
    "\n",
    "drugs_with_more_names = {k:list(v) for k,v in drugs.items() if len(v) > 1}\n",
    "for k,v in dict(itertools.islice(drugs_with_more_names.items(), 10)).items():\n",
    "    print(f\"{k:10}: {list(v)[:2]}\")"
   ]
  },
  {
   "cell_type": "markdown",
   "id": "301c1b32",
   "metadata": {
    "id": "301c1b32"
   },
   "source": [
    "It turns out the reason why Drug has more values than DrugId is that some drugs are sold is different forms, like cream, pill, gel, etc. I am going to be using DrugId "
   ]
  },
  {
   "cell_type": "markdown",
   "id": "b8012ae9",
   "metadata": {
    "id": "b8012ae9"
   },
   "source": [
    "# Exploratory data analysis"
   ]
  },
  {
   "cell_type": "markdown",
   "id": "07a68498",
   "metadata": {
    "id": "07a68498"
   },
   "source": [
    "## Analysis of target"
   ]
  },
  {
   "cell_type": "code",
   "execution_count": 21,
   "id": "f9449dfc",
   "metadata": {
    "id": "f9449dfc",
    "outputId": "b88ac7b5-00fb-483a-9e1e-952bf27cfe3c"
   },
   "outputs": [
    {
     "name": "stdout",
     "output_type": "stream",
     "text": [
      "5    84286\n",
      "1    81799\n",
      "4    47037\n",
      "3    38948\n",
      "2    28041\n",
      "6        2\n",
      "Name: Satisfaction, dtype: int64\n"
     ]
    }
   ],
   "source": [
    "print(data[\"Satisfaction\"].value_counts())\n",
    "data = data[data[\"Satisfaction\"] <= 5]"
   ]
  },
  {
   "cell_type": "code",
   "execution_count": 22,
   "id": "a508a46c",
   "metadata": {
    "id": "a508a46c",
    "outputId": "b20c8c7d-48cf-4b29-cd15-c5a70004e4b5"
   },
   "outputs": [
    {
     "data": {
      "image/png": "[encoded data removed]",
      "text/plain": [
       "<Figure size 432x288 with 1 Axes>"
      ]
     },
     "metadata": {},
     "output_type": "display_data"
    }
   ],
   "source": [
    "fig, ax = plt.subplots()\n",
    "ax.pie(data['Satisfaction'].value_counts().values, labels = data['Satisfaction'].value_counts().index, autopct = '%1.2f%%', shadow = True, startangle = 45)\n",
    "ax.axis('equal')\n",
    "plt.title('Satisfaction', loc = 'center', fontsize = 18)\n",
    "plt.show()"
   ]
  },
  {
   "cell_type": "markdown",
   "id": "3c19b648",
   "metadata": {
    "id": "3c19b648"
   },
   "source": [
    "* Observation:-\n",
    "    \n",
    "    * From the figure it is clear that 30% of people is satisfied(5) with drug that means drugs have effect for the disease and no side effect.\n",
    "    * 29.20% people were given 1 as satisfaction ie.,drugs they used have side effect and they are not satisfied with it."
   ]
  },
  {
   "cell_type": "code",
   "execution_count": 23,
   "id": "60847468",
   "metadata": {
    "id": "60847468",
    "outputId": "0ee583e2-9c2f-4ef3-e1e3-eae308549261"
   },
   "outputs": [
    {
     "data": {
      "image/png": "[encoded data removed]",
      "text/plain": [
       "<Figure size 432x288 with 1 Axes>"
      ]
     },
     "metadata": {
      "needs_background": "light"
     },
     "output_type": "display_data"
    }
   ],
   "source": [
    "plt.hist(data=data,x='EaseofUse',color='green')\n",
    "plt.show()"
   ]
  },
  {
   "cell_type": "markdown",
   "id": "851f43d7",
   "metadata": {
    "id": "851f43d7"
   },
   "source": [
    "* Observation\n",
    "\n",
    "From the graph we can find that most of the drugs were easy to use that is indicated as 5.Second highest is 4."
   ]
  },
  {
   "cell_type": "code",
   "execution_count": 24,
   "id": "759957d7",
   "metadata": {
    "id": "759957d7",
    "outputId": "7f9af3dc-59e9-49b4-e277-aa1dd060c524"
   },
   "outputs": [
    {
     "data": {
      "image/png": "[encoded data removed]",
      "text/plain": [
       "<Figure size 576x432 with 1 Axes>"
      ]
     },
     "metadata": {
      "needs_background": "light"
     },
     "output_type": "display_data"
    }
   ],
   "source": [
    "plt.figure(figsize=(8,6))\n",
    "plt.hist(data=data,x='Age',width=0.9)\n",
    "plt.show()"
   ]
  },
  {
   "cell_type": "markdown",
   "id": "8b1b5851",
   "metadata": {
    "id": "8b1b5851"
   },
   "source": [
    "* Observation:-\n",
    "    \n",
    "    * People in the age group of 45-54 is high for using the drugs\n",
    "    * Second highest number are from the 55-64 age group\n",
    "    * Lowest were from the age group 0-2 and 3-6.\n",
    "    * The data have general trend because aged people depends more on drugs than others."
   ]
  },
  {
   "cell_type": "code",
   "execution_count": 25,
   "id": "745c7131",
   "metadata": {},
   "outputs": [
    {
     "data": {
      "image/png": "[encoded data removed]",
      "text/plain": [
       "<Figure size 432x288 with 1 Axes>"
      ]
     },
     "metadata": {
      "needs_background": "light"
     },
     "output_type": "display_data"
    },
    {
     "data": {
      "text/plain": [
       "<Figure size 1080x1080 with 0 Axes>"
      ]
     },
     "metadata": {},
     "output_type": "display_data"
    }
   ],
   "source": [
    "data[\"Drug\"].value_counts().head(20).plot(kind='bar',color='orange')\n",
    "plt.figure(figsize=(15,15))\n",
    "plt.show()"
   ]
  },
  {
   "cell_type": "markdown",
   "id": "ab1f1f0b",
   "metadata": {},
   "source": [
    "* Observation:-\n",
    "    * The figure which shows the most commonly used drugs by the people\n",
    "    * Highest or commonly used drug is cymbalta,then lexapro,lisinopril....etc.\n",
    "    * cymbalta is used for depression disorder and anxiety."
   ]
  },
  {
   "cell_type": "code",
   "execution_count": 26,
   "id": "e86dc84c",
   "metadata": {
    "id": "e86dc84c",
    "outputId": "0dbf87ff-bf1a-4bea-cf7c-e48213d1bafe"
   },
   "outputs": [
    {
     "data": {
      "image/png": "[encoded data removed]",
      "text/plain": [
       "<Figure size 648.125x288 with 1 Axes>"
      ]
     },
     "metadata": {
      "needs_background": "light"
     },
     "output_type": "display_data"
    }
   ],
   "source": [
    "sns.catplot(x=\"Effectiveness\", hue=\"Sex\",\n",
    "                data=data, kind=\"count\",\n",
    "                height=4, aspect=2);"
   ]
  },
  {
   "cell_type": "markdown",
   "id": "ab694c82",
   "metadata": {
    "id": "ab694c82"
   },
   "source": [
    "* insight :- \n",
    "    \n",
    "    From the figure we can conclude that effectiveness for both male and female is high(5).That means the drug is very effective.But more than 10000 males and 35000 females have not much effect on them while using the drugs.So there may be side effect. "
   ]
  },
  {
   "cell_type": "code",
   "execution_count": 27,
   "id": "d74e8be7",
   "metadata": {
    "id": "d74e8be7",
    "outputId": "facacea3-71e6-4d31-8882-2c4a2813e6a2"
   },
   "outputs": [
    {
     "data": {
      "text/plain": [
       "<AxesSubplot:xlabel='Age', ylabel='Effectiveness'>"
      ]
     },
     "execution_count": 27,
     "metadata": {},
     "output_type": "execute_result"
    },
    {
     "data": {
      "image/png": "[encoded data removed]",
      "text/plain": [
       "<Figure size 576x432 with 1 Axes>"
      ]
     },
     "metadata": {
      "needs_background": "light"
     },
     "output_type": "display_data"
    }
   ],
   "source": [
    "plt.figure(figsize=(8,6))\n",
    "sns.barplot(y='Effectiveness',x='Age',data=data)"
   ]
  },
  {
   "cell_type": "markdown",
   "id": "f193a28c",
   "metadata": {
    "id": "f193a28c"
   },
   "source": [
    "* Insight :- \n",
    "    \n",
    "    Age between 19-24 groups which have more effect of drugs on their body compared to other age groups.Effectiveness is low for the people having age above 75"
   ]
  },
  {
   "cell_type": "code",
   "execution_count": 28,
   "id": "d9aa8772",
   "metadata": {
    "id": "d9aa8772",
    "outputId": "3757538a-b903-41b3-8d52-abbdd13f1295"
   },
   "outputs": [
    {
     "data": {
      "image/png": "[encoded data removed]",
      "text/plain": [
       "<Figure size 576x432 with 1 Axes>"
      ]
     },
     "metadata": {
      "needs_background": "light"
     },
     "output_type": "display_data"
    }
   ],
   "source": [
    "plt.figure(figsize=(8,6))\n",
    "sns.violinplot(y='Age',x='Satisfaction',data=data)\n",
    "plt.show()"
   ]
  },
  {
   "cell_type": "markdown",
   "id": "a46d70f3",
   "metadata": {
    "id": "a46d70f3"
   },
   "source": [
    "* Insight :-\n",
    "    \n",
    "    * It is clear that most of the drugs are very easy to use.\n",
    "    * Satisfaction among all age group are in similar trend.there is no abnormality shown.\n",
    "    * In all age group fully satisfied and merely satisfied people have more number."
   ]
  },
  {
   "cell_type": "code",
   "execution_count": 29,
   "id": "1a55f33e",
   "metadata": {
    "id": "1a55f33e",
    "outputId": "bbf54f43-ef31-48b6-9faa-21d0b84b519e"
   },
   "outputs": [
    {
     "data": {
      "text/plain": [
       "<AxesSubplot:title={'center':'Effectiveness vs Satisfaction'}, xlabel='Satisfaction', ylabel='Effectiveness'>"
      ]
     },
     "execution_count": 29,
     "metadata": {},
     "output_type": "execute_result"
    },
    {
     "data": {
      "image/png": "[encoded data removed]",
      "text/plain": [
       "<Figure size 432x432 with 1 Axes>"
      ]
     },
     "metadata": {
      "needs_background": "light"
     },
     "output_type": "display_data"
    }
   ],
   "source": [
    "plt.figure(figsize=(6,6))\n",
    "plt.title(\"Effectiveness vs Satisfaction\")\n",
    "sns.barplot(y='Effectiveness', x='Satisfaction', data=data,)"
   ]
  },
  {
   "cell_type": "markdown",
   "id": "997e83a9",
   "metadata": {
    "id": "997e83a9"
   },
   "source": [
    "* Insight :-\n",
    "    \n",
    "    effectiveness and satisfaction are directly proportional.If the effect of drug is high the people's satisfaction also high.There may be less side effect for the drugs."
   ]
  },
  {
   "cell_type": "markdown",
   "id": "0b0a447f",
   "metadata": {
    "id": "0b0a447f"
   },
   "source": [
    "## Handling outliers"
   ]
  },
  {
   "cell_type": "code",
   "execution_count": 30,
   "id": "54a58b3a",
   "metadata": {
    "id": "54a58b3a",
    "outputId": "c04f8f71-25e6-4e22-e485-05757ebb0f1b"
   },
   "outputs": [
    {
     "data": {
      "image/png": "[encoded data removed]",
      "text/plain": [
       "<Figure size 720x576 with 3 Axes>"
      ]
     },
     "metadata": {
      "needs_background": "light"
     },
     "output_type": "display_data"
    }
   ],
   "source": [
    "col_num=data.select_dtypes(include=[\"int64\",\"float64\"]).columns.tolist()\n",
    "fig,axs=plt.subplots(1,3,figsize=(10,8))\n",
    "fig.suptitle(\"Box plot of numeric features to detect outliers\",y=.9,fontweight=\"bold\",fontsize=10)\n",
    "for col,ax in zip(col_num[1:],axs.flatten()):\n",
    "    b=sns.boxplot(y=data[col],ax=ax,color=\"darksalmon\")\n",
    "    b.set_ylabel(col,fontsize=15)\n",
    "    plt.subplots_adjust(wspace=.5)"
   ]
  },
  {
   "cell_type": "markdown",
   "id": "e129cdda",
   "metadata": {
    "id": "e129cdda"
   },
   "source": [
    "#### Here the numeric features have no outliers.So that there is no need of handling.."
   ]
  },
  {
   "cell_type": "markdown",
   "id": "cd420ad9",
   "metadata": {
    "id": "cd420ad9"
   },
   "source": [
    "# Feature reduction"
   ]
  },
  {
   "cell_type": "code",
   "execution_count": 31,
   "id": "6c0b28a4",
   "metadata": {
    "id": "6c0b28a4",
    "outputId": "3d897a72-0fab-4948-e64c-da79638063d9"
   },
   "outputs": [
    {
     "data": {
      "image/png": "[encoded data removed]",
      "text/plain": [
       "<Figure size 720x432 with 2 Axes>"
      ]
     },
     "metadata": {
      "needs_background": "light"
     },
     "output_type": "display_data"
    }
   ],
   "source": [
    "plt.subplots(figsize=(10,6))\n",
    "sns.heatmap(data.corr(),annot=True)\n",
    "plt.show()"
   ]
  },
  {
   "cell_type": "markdown",
   "id": "9280d1e4",
   "metadata": {
    "id": "9280d1e4"
   },
   "source": [
    "From the figure we can conclude thatuseful count is less related to other features.Date and review will not give any information to modeling. Drug id and drug is less important so i dropped drug "
   ]
  },
  {
   "cell_type": "code",
   "execution_count": 32,
   "id": "5cd0fc0d",
   "metadata": {
    "id": "5cd0fc0d",
    "outputId": "8b2fcce6-689f-40fa-c83d-2325807477bf"
   },
   "outputs": [
    {
     "data": {
      "text/plain": [
       "Index(['Age', 'Condition', 'Date', 'Drug', 'DrugId', 'EaseofUse',\n",
       "       'Effectiveness', 'Reviews', 'Satisfaction', 'Sex', 'Sides',\n",
       "       'UsefulCount'],\n",
       "      dtype='object')"
      ]
     },
     "execution_count": 32,
     "metadata": {},
     "output_type": "execute_result"
    }
   ],
   "source": [
    "data.columns"
   ]
  },
  {
   "cell_type": "code",
   "execution_count": 33,
   "id": "fc1b0bc1",
   "metadata": {
    "id": "fc1b0bc1"
   },
   "outputs": [],
   "source": [
    "data.drop(['Drug','Reviews','UsefulCount','Date'],axis=1,inplace=True)"
   ]
  },
  {
   "cell_type": "markdown",
   "id": "bb620f29",
   "metadata": {
    "id": "bb620f29"
   },
   "source": [
    "## Feature engineering"
   ]
  },
  {
   "cell_type": "code",
   "execution_count": 34,
   "id": "11385ad6",
   "metadata": {
    "id": "11385ad6"
   },
   "outputs": [],
   "source": [
    "def relabel(x):\n",
    "    return 0 if x < 3 else 1 if x == 3 else 2\n",
    "\n",
    "data[\"Satisfaction\"] = data[\"Satisfaction\"].apply(relabel)"
   ]
  },
  {
   "cell_type": "markdown",
   "id": "817e41b9",
   "metadata": {
    "id": "8ae266d9"
   },
   "source": [
    "To make life easier I simplify the categories and group them as follows:\n",
    "\n",
    "* Satisfaction 1 and 2 → 0 (No side effects)\n",
    "* Satisfaction 3           → 1 (Neutral)\n",
    "* Satisfaction 4 and 5 → 2 (have side effects)"
   ]
  },
  {
   "cell_type": "code",
   "execution_count": 35,
   "id": "ff9db62c",
   "metadata": {
    "id": "ff9db62c",
    "outputId": "4a8f356b-c08a-4290-d5b7-dd752440218e"
   },
   "outputs": [
    {
     "data": {
      "text/plain": [
       "2    131323\n",
       "0    109840\n",
       "1     38948\n",
       "Name: Satisfaction, dtype: int64"
      ]
     },
     "execution_count": 35,
     "metadata": {},
     "output_type": "execute_result"
    }
   ],
   "source": [
    "data['Satisfaction'].value_counts()"
   ]
  },
  {
   "cell_type": "markdown",
   "id": "b902a1a6",
   "metadata": {
    "id": "b902a1a6"
   },
   "source": [
    "# Label encoding"
   ]
  },
  {
   "cell_type": "code",
   "execution_count": 36,
   "id": "89894bbe",
   "metadata": {
    "id": "89894bbe"
   },
   "outputs": [],
   "source": [
    "from sklearn.preprocessing import LabelEncoder\n",
    "lb = LabelEncoder()\n",
    "data.Age = lb.fit_transform(data.Age)\n",
    "data.Sex = lb.fit_transform(data.Sex)\n",
    "data.Condition = lb.fit_transform(data.Condition)\n",
    "data.Sides = lb.fit_transform(data.Sides)"
   ]
  },
  {
   "cell_type": "code",
   "execution_count": 37,
   "id": "9b9becc0",
   "metadata": {
    "id": "9b9becc0",
    "outputId": "4b65a99c-cb4a-40e8-99ea-3e1799767d9e"
   },
   "outputs": [
    {
     "data": {
      "text/html": [
       "<div>\n",
       "<style scoped>\n",
       "    .dataframe tbody tr th:only-of-type {\n",
       "        vertical-align: middle;\n",
       "    }\n",
       "\n",
       "    .dataframe tbody tr th {\n",
       "        vertical-align: top;\n",
       "    }\n",
       "\n",
       "    .dataframe thead th {\n",
       "        text-align: right;\n",
       "    }\n",
       "</style>\n",
       "<table border=\"1\" class=\"dataframe\">\n",
       "  <thead>\n",
       "    <tr style=\"text-align: right;\">\n",
       "      <th></th>\n",
       "      <th>Age</th>\n",
       "      <th>Condition</th>\n",
       "      <th>DrugId</th>\n",
       "      <th>EaseofUse</th>\n",
       "      <th>Effectiveness</th>\n",
       "      <th>Satisfaction</th>\n",
       "      <th>Sex</th>\n",
       "      <th>Sides</th>\n",
       "    </tr>\n",
       "  </thead>\n",
       "  <tbody>\n",
       "    <tr>\n",
       "      <th>0</th>\n",
       "      <td>10</td>\n",
       "      <td>1405</td>\n",
       "      <td>146724</td>\n",
       "      <td>5</td>\n",
       "      <td>5</td>\n",
       "      <td>2</td>\n",
       "      <td>1</td>\n",
       "      <td>397</td>\n",
       "    </tr>\n",
       "    <tr>\n",
       "      <th>1</th>\n",
       "      <td>3</td>\n",
       "      <td>376</td>\n",
       "      <td>146724</td>\n",
       "      <td>5</td>\n",
       "      <td>5</td>\n",
       "      <td>2</td>\n",
       "      <td>0</td>\n",
       "      <td>397</td>\n",
       "    </tr>\n",
       "    <tr>\n",
       "      <th>6</th>\n",
       "      <td>3</td>\n",
       "      <td>214</td>\n",
       "      <td>163180</td>\n",
       "      <td>5</td>\n",
       "      <td>5</td>\n",
       "      <td>0</td>\n",
       "      <td>0</td>\n",
       "      <td>1015</td>\n",
       "    </tr>\n",
       "    <tr>\n",
       "      <th>7</th>\n",
       "      <td>6</td>\n",
       "      <td>493</td>\n",
       "      <td>163180</td>\n",
       "      <td>5</td>\n",
       "      <td>5</td>\n",
       "      <td>2</td>\n",
       "      <td>0</td>\n",
       "      <td>1015</td>\n",
       "    </tr>\n",
       "    <tr>\n",
       "      <th>9</th>\n",
       "      <td>7</td>\n",
       "      <td>1405</td>\n",
       "      <td>9800</td>\n",
       "      <td>4</td>\n",
       "      <td>2</td>\n",
       "      <td>0</td>\n",
       "      <td>1</td>\n",
       "      <td>1456</td>\n",
       "    </tr>\n",
       "    <tr>\n",
       "      <th>...</th>\n",
       "      <td>...</td>\n",
       "      <td>...</td>\n",
       "      <td>...</td>\n",
       "      <td>...</td>\n",
       "      <td>...</td>\n",
       "      <td>...</td>\n",
       "      <td>...</td>\n",
       "      <td>...</td>\n",
       "    </tr>\n",
       "    <tr>\n",
       "      <th>362799</th>\n",
       "      <td>3</td>\n",
       "      <td>1396</td>\n",
       "      <td>144470</td>\n",
       "      <td>2</td>\n",
       "      <td>4</td>\n",
       "      <td>2</td>\n",
       "      <td>0</td>\n",
       "      <td>884</td>\n",
       "    </tr>\n",
       "    <tr>\n",
       "      <th>362801</th>\n",
       "      <td>7</td>\n",
       "      <td>1396</td>\n",
       "      <td>144470</td>\n",
       "      <td>5</td>\n",
       "      <td>5</td>\n",
       "      <td>2</td>\n",
       "      <td>0</td>\n",
       "      <td>884</td>\n",
       "    </tr>\n",
       "    <tr>\n",
       "      <th>362803</th>\n",
       "      <td>3</td>\n",
       "      <td>1396</td>\n",
       "      <td>144470</td>\n",
       "      <td>2</td>\n",
       "      <td>4</td>\n",
       "      <td>0</td>\n",
       "      <td>0</td>\n",
       "      <td>884</td>\n",
       "    </tr>\n",
       "    <tr>\n",
       "      <th>362804</th>\n",
       "      <td>7</td>\n",
       "      <td>1396</td>\n",
       "      <td>144470</td>\n",
       "      <td>5</td>\n",
       "      <td>5</td>\n",
       "      <td>2</td>\n",
       "      <td>1</td>\n",
       "      <td>884</td>\n",
       "    </tr>\n",
       "    <tr>\n",
       "      <th>362805</th>\n",
       "      <td>6</td>\n",
       "      <td>1396</td>\n",
       "      <td>144470</td>\n",
       "      <td>4</td>\n",
       "      <td>5</td>\n",
       "      <td>2</td>\n",
       "      <td>0</td>\n",
       "      <td>884</td>\n",
       "    </tr>\n",
       "  </tbody>\n",
       "</table>\n",
       "<p>280111 rows × 8 columns</p>\n",
       "</div>"
      ],
      "text/plain": [
       "        Age  Condition  DrugId  EaseofUse  Effectiveness  Satisfaction  Sex  \\\n",
       "0        10       1405  146724          5              5             2    1   \n",
       "1         3        376  146724          5              5             2    0   \n",
       "6         3        214  163180          5              5             0    0   \n",
       "7         6        493  163180          5              5             2    0   \n",
       "9         7       1405    9800          4              2             0    1   \n",
       "...     ...        ...     ...        ...            ...           ...  ...   \n",
       "362799    3       1396  144470          2              4             2    0   \n",
       "362801    7       1396  144470          5              5             2    0   \n",
       "362803    3       1396  144470          2              4             0    0   \n",
       "362804    7       1396  144470          5              5             2    1   \n",
       "362805    6       1396  144470          4              5             2    0   \n",
       "\n",
       "        Sides  \n",
       "0         397  \n",
       "1         397  \n",
       "6        1015  \n",
       "7        1015  \n",
       "9        1456  \n",
       "...       ...  \n",
       "362799    884  \n",
       "362801    884  \n",
       "362803    884  \n",
       "362804    884  \n",
       "362805    884  \n",
       "\n",
       "[280111 rows x 8 columns]"
      ]
     },
     "execution_count": 37,
     "metadata": {},
     "output_type": "execute_result"
    }
   ],
   "source": [
    "data"
   ]
  },
  {
   "cell_type": "markdown",
   "id": "9e888556",
   "metadata": {
    "id": "9e888556"
   },
   "source": [
    "# Splitting of dataset"
   ]
  },
  {
   "cell_type": "code",
   "execution_count": 38,
   "id": "a2703d06",
   "metadata": {
    "id": "a2703d06"
   },
   "outputs": [],
   "source": [
    "x=data.drop(['Satisfaction'],axis=1)\n",
    "y=data['Satisfaction']"
   ]
  },
  {
   "cell_type": "code",
   "execution_count": 39,
   "id": "87a2a073",
   "metadata": {
    "id": "87a2a073"
   },
   "outputs": [],
   "source": [
    "from sklearn.model_selection import train_test_split\n",
    "x_train,x_test,y_train,y_test = train_test_split(x,y,random_state=42,test_size=0.2)"
   ]
  },
  {
   "cell_type": "markdown",
   "id": "e5715f73",
   "metadata": {},
   "source": [
    "# Modelling"
   ]
  },
  {
   "cell_type": "code",
   "execution_count": 40,
   "id": "f9073c01",
   "metadata": {
    "id": "f9073c01"
   },
   "outputs": [],
   "source": [
    "from sklearn.neighbors import KNeighborsClassifier as KNN\n",
    "from sklearn.metrics import accuracy_score\n",
    "# to obtain optimum K value\n",
    "# so we want to create model with varied k value\n",
    "acc_values=[]\n",
    "neighbors=np.arange(3,15)\n",
    "for k in neighbors:\n",
    "    classifier=KNN(n_neighbors=k,metric='minkowski') \n",
    "    classifier.fit(x_train,y_train) \n",
    "    y_pred=classifier.predict(x_test)\n",
    "    acc=accuracy_score(y_test,y_pred) \n",
    "    acc_values.append(acc) "
   ]
  },
  {
   "cell_type": "code",
   "execution_count": 41,
   "id": "acdef5d2",
   "metadata": {
    "id": "acdef5d2",
    "outputId": "09aa1ff9-0838-4632-a155-7b9aa844b43a"
   },
   "outputs": [
    {
     "data": {
      "text/plain": [
       "Text(0, 0.5, 'accuracy')"
      ]
     },
     "execution_count": 41,
     "metadata": {},
     "output_type": "execute_result"
    },
    {
     "data": {
      "image/png": "[encoded data removed]",
      "text/plain": [
       "<Figure size 432x288 with 1 Axes>"
      ]
     },
     "metadata": {
      "needs_background": "light"
     },
     "output_type": "display_data"
    }
   ],
   "source": [
    "plt.plot(neighbors,acc_values,'o-')\n",
    "plt.xlabel('k-values')\n",
    "plt.ylabel('accuracy')"
   ]
  },
  {
   "cell_type": "markdown",
   "id": "81d645d5",
   "metadata": {},
   "source": [
    "# modeling with logistic regression,KNN,decision tree clasifier"
   ]
  },
  {
   "cell_type": "code",
   "execution_count": 42,
   "id": "9feddfff",
   "metadata": {
    "id": "9feddfff"
   },
   "outputs": [],
   "source": [
    "from sklearn.linear_model import LogisticRegression\n",
    "from sklearn.neighbors import KNeighborsClassifier as KNN\n",
    "from sklearn.tree import DecisionTreeClassifier\n",
    "SEED=42\n",
    "lr=LogisticRegression(random_state=SEED)\n",
    "knn=KNN(n_neighbors=6)\n",
    "dtc=DecisionTreeClassifier(random_state=SEED)\n",
    "classifiers=[('LogisticRegression',lr),('K Nearest Neighbors',knn),('Decision Tree',dtc)]"
   ]
  },
  {
   "cell_type": "code",
   "execution_count": 43,
   "id": "e33cf591",
   "metadata": {
    "id": "e33cf591",
    "outputId": "3fdd8a4c-60a4-4ad1-e12e-0c21421a0585"
   },
   "outputs": [
    {
     "name": "stdout",
     "output_type": "stream",
     "text": [
      "LogisticRegression:0.504\n",
      "K Nearest Neighbors:0.738\n",
      "Decision Tree:0.775\n"
     ]
    }
   ],
   "source": [
    "from sklearn.metrics import accuracy_score\n",
    "for class_name,clf in classifiers:\n",
    "    clf.fit(x_train,y_train)\n",
    "    y_pred=clf.predict(x_test)\n",
    "    accuracy=accuracy_score(y_test,y_pred)\n",
    "    print('{:s}:{:.3f}'.format(class_name,accuracy))"
   ]
  },
  {
   "cell_type": "code",
   "execution_count": 44,
   "id": "58da9224",
   "metadata": {
    "id": "58da9224",
    "outputId": "7d0476f9-b922-43f7-81e6-745d3feafbc0"
   },
   "outputs": [
    {
     "name": "stdout",
     "output_type": "stream",
     "text": [
      "Collecting package metadata (current_repodata.json): ...working... failed\n",
      "Note: you may need to restart the kernel to use updated packages.\n",
      "\n"
     ]
    },
    {
     "name": "stderr",
     "output_type": "stream",
     "text": [
      "\n",
      "CondaHTTPError: HTTP 000 CONNECTION FAILED for url <https://conda.anaconda.org/anaconda/win-64/current_repodata.json>\n",
      "Elapsed: -\n",
      "\n",
      "An HTTP error occurred when trying to retrieve this URL.\n",
      "HTTP errors are often intermittent, and a simple retry will get you on your way.\n",
      "'https://conda.anaconda.org/anaconda/win-64'\n",
      "\n",
      "\n"
     ]
    }
   ],
   "source": [
    "conda install -c anaconda py-xgboost"
   ]
  },
  {
   "cell_type": "markdown",
   "id": "ed42b111",
   "metadata": {},
   "source": [
    "# Modeling with voting classifier,Random forest,Gradient boosting and Extreme gradient boosting classifier"
   ]
  },
  {
   "cell_type": "code",
   "execution_count": 45,
   "id": "095ef394",
   "metadata": {
    "id": "095ef394"
   },
   "outputs": [],
   "source": [
    "from sklearn.ensemble import VotingClassifier\n",
    "from sklearn.ensemble import RandomForestClassifier\n",
    "from sklearn.ensemble import GradientBoostingClassifier\n",
    "from xgboost import XGBClassifier\n",
    "SEED = 42\n",
    "vc=VotingClassifier(estimators=classifiers)\n",
    "rf=RandomForestClassifier()\n",
    "gb=GradientBoostingClassifier()\n",
    "xgb=XGBClassifier()\n",
    "classifiers=[('Voting Classifier',vc),('Random Forest',rf),('Gradient Boosting',gb),('Extreme Gradient Boosting',xgb)]"
   ]
  },
  {
   "cell_type": "code",
   "execution_count": 46,
   "id": "e04bac8c",
   "metadata": {
    "id": "e04bac8c",
    "outputId": "85e06690-00f1-44cd-807b-370cf53e831f"
   },
   "outputs": [
    {
     "name": "stdout",
     "output_type": "stream",
     "text": [
      "Voting Classifier:0.759\n",
      "Random Forest:0.802\n",
      "Gradient Boosting:0.790\n",
      "[23:39:27] WARNING: ..\\src\\learner.cc:1115: Starting in XGBoost 1.3.0, the default evaluation metric used with the objective 'multi:softprob' was changed from 'merror' to 'mlogloss'. Explicitly set eval_metric if you'd like to restore the old behavior.\n",
      "Extreme Gradient Boosting:0.797\n"
     ]
    }
   ],
   "source": [
    "for class_name,clf in classifiers:\n",
    "    clf.fit(x_train,y_train)\n",
    "    y_pred=clf.predict(x_test)\n",
    "    accuracy=accuracy_score(y_test,y_pred)\n",
    "    print('{:s}:{:.3f}'.format(class_name,accuracy))"
   ]
  },
  {
   "cell_type": "markdown",
   "id": "efe8af18",
   "metadata": {
    "id": "efe8af18"
   },
   "source": [
    "# Model prediction Accuracy table"
   ]
  },
  {
   "cell_type": "markdown",
   "id": "4573bb4c",
   "metadata": {
    "id": "4573bb4c"
   },
   "source": [
    "|Model|Accuracy score|\n",
    "|:--|:-:|\n",
    "|logistic regression|0.504|  \n",
    "|KNN|0.738|\n",
    "|Decision tree|0.775|\n",
    "|Voting classifier|0.759|\n",
    "|Random forest|0.802|\n",
    "|Gradient boosting|0.790|\n",
    "|Extreme gradient boosting|0.797|"
   ]
  },
  {
   "cell_type": "markdown",
   "id": "dd6dae80",
   "metadata": {
    "id": "b7de254e"
   },
   "source": [
    "### The best fitted model is the Random forest model and gives 80.2% accuracy."
   ]
  },
  {
   "cell_type": "markdown",
   "id": "7d2b092f",
   "metadata": {
    "id": "7d2b092f"
   },
   "source": [
    "# feature importance of Random forest model"
   ]
  },
  {
   "cell_type": "code",
   "execution_count": 47,
   "id": "629c56d0",
   "metadata": {
    "id": "629c56d0",
    "outputId": "88d74850-5ae0-4b87-a9a9-eeca3cc39a54"
   },
   "outputs": [
    {
     "data": {
      "text/plain": [
       "Effectiveness    46.688231\n",
       "EaseofUse        13.292293\n",
       "DrugId           12.051895\n",
       "Condition        10.241052\n",
       "Sides             9.555833\n",
       "Age               7.216122\n",
       "Sex               0.954575\n",
       "dtype: float64"
      ]
     },
     "execution_count": 47,
     "metadata": {},
     "output_type": "execute_result"
    }
   ],
   "source": [
    "pd.Series(rf.feature_importances_,index=x.columns).sort_values(ascending=False)*100"
   ]
  },
  {
   "cell_type": "code",
   "execution_count": 48,
   "id": "1667af21",
   "metadata": {
    "id": "1667af21",
    "outputId": "63d24cbf-7bbc-4ae3-d8bf-fa8dab91b923"
   },
   "outputs": [
    {
     "data": {
      "text/plain": [
       "array([2], dtype=int64)"
      ]
     },
     "execution_count": 48,
     "metadata": {},
     "output_type": "execute_result"
    }
   ],
   "source": [
    "rf.predict([[10,1405,146724,5,5,1,397]])"
   ]
  },
  {
   "cell_type": "markdown",
   "id": "dc7b69a5",
   "metadata": {
    "id": "62cbfdc2"
   },
   "source": [
    "## Result:-\n",
    "* Drugs which are commonly used are for depression and anxiety disorder\n",
    "* From the data side effects are there for more number of drugs and then are neutral and no side effect drugs are less in         number\n",
    "* So people should be aware of the side effects of drugs which is used for their disorder."
   ]
  },
  {
   "cell_type": "code",
   "execution_count": null,
   "id": "250737ee",
   "metadata": {},
   "outputs": [],
   "source": []
  }
 ],
 "metadata": {
  "colab": {
   "name": "aparna_internship (1)-Copy1.ipynb",
   "provenance": []
  },
  "kernelspec": {
   "display_name": "Python 3",
   "language": "python",
   "name": "python3"
  },
  "language_info": {
   "codemirror_mode": {
    "name": "ipython",
    "version": 3
   },
   "file_extension": ".py",
   "mimetype": "text/x-python",
   "name": "python",
   "nbconvert_exporter": "python",
   "pygments_lexer": "ipython3",
   "version": "3.8.8"
  }
 },
 "nbformat": 4,
 "nbformat_minor": 5
}
